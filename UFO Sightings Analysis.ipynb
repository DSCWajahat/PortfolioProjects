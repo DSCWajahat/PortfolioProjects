{
 "cells": [
  {
   "cell_type": "markdown",
   "metadata": {
    "_cell_guid": "c8c77a71-aa8c-4336-b82e-8d9a1521d334",
    "_uuid": "222d306669f22df0c87362323519d95c12839c87"
   },
   "source": [
    "## **Import Libraries and Dataset**"
   ]
  },
  {
   "cell_type": "code",
   "execution_count": null,
   "metadata": {
    "_cell_guid": "81172c7d-253d-465c-aab6-c1d6e24a7f2a",
    "_uuid": "abc4163faa1c237da5614c69c955896802ce0e69"
   },
   "outputs": [],
   "source": [
    "# Import Libraries #\n",
    "import numpy as np # linear algebra\n",
    "import pandas as pd # data processing, CSV file I/O (e.g. pd.read_csv)\n",
    "import matplotlib.pyplot as plt  # matplotlib for plotting\n",
    "import seaborn as sns  # seaborn to help with visualizations\n",
    "from subprocess import check_output  # check files in directory\n",
    "print(check_output([\"ls\", \"../input\"]).decode(\"utf8\"))"
   ]
  },
  {
   "cell_type": "code",
   "execution_count": null,
   "metadata": {
    "_cell_guid": "f74daf01-115b-4a36-9a1a-2951aad642c5",
    "_uuid": "f97edc8263a20a55b51530f2fc8b89b54f8095ab",
    "collapsed": true
   },
   "outputs": [],
   "source": [
    "# Data Upload #\n",
    "ufo_db = '../input/scrubbed.csv'  # Dataset file path\n",
    "ufo_data = pd.read_csv(ufo_db, low_memory=False)  # DATA LOADED INTO ufo_data"
   ]
  },
  {
   "cell_type": "markdown",
   "metadata": {
    "_cell_guid": "e3ed4862-a334-4be1-a718-f8e474488fde",
    "_uuid": "53404b279ded3ace8220f19bf10cc20f864b36b6"
   },
   "source": [
    "## **Peek at the Data**\n",
    "\n",
    "Checking some attributes of the data using `.columns`, `.head`, `.index`, `.describe`, etc."
   ]
  },
  {
   "cell_type": "code",
   "execution_count": null,
   "metadata": {
    "_cell_guid": "b0613ad6-24dc-4c20-b152-896426bba0e6",
    "_uuid": "93a7e55e3aa28677316c68a6be148145cd895f95"
   },
   "outputs": [],
   "source": [
    "ufo_data.columns"
   ]
  },
  {
   "cell_type": "code",
   "execution_count": null,
   "metadata": {
    "_cell_guid": "37381967-4e7a-44ec-8e2d-f189bd673a03",
    "_uuid": "212f2f8a67c28efaab0def38494684c4a6819fa9"
   },
   "outputs": [],
   "source": [
    "ufo_data.shape"
   ]
  },
  {
   "cell_type": "code",
   "execution_count": null,
   "metadata": {
    "_cell_guid": "37caeb2e-619e-48e2-8f1c-d25a37a6bb5e",
    "_uuid": "6f479368dd919579057cf0329661fb5b32e0f355"
   },
   "outputs": [],
   "source": [
    "ufo_data.head(5)"
   ]
  },
  {
   "cell_type": "code",
   "execution_count": null,
   "metadata": {
    "_cell_guid": "b83c7349-1aac-418e-ba59-f14af46e7bb3",
    "_uuid": "c3d400fcd2adc248086e083c8843a37e2404568c"
   },
   "outputs": [],
   "source": [
    "ufo_data.tail(5)"
   ]
  },
  {
   "cell_type": "code",
   "execution_count": null,
   "metadata": {
    "_cell_guid": "de0a5651-73a6-4bd0-842f-f183d05269e7",
    "_uuid": "e5825b9e21fb01076c418530d914a8b0f07dec6e"
   },
   "outputs": [],
   "source": [
    "nulvals = ufo_data.isnull().sum()\n",
    "nulpct = (nulvals / len(ufo_data))*100\n",
    "print(' Null Values (% of entries):')\n",
    "print(round(nulpct.sort_values(ascending=False),2))"
   ]
  },
  {
   "cell_type": "markdown",
   "metadata": {
    "_cell_guid": "24f814ca-67be-408c-b67e-b6d32d94c492",
    "_uuid": "051a81a63dda69506cca5972b6cf86f798202a63"
   },
   "source": [
    "That was a good look at the data. States are also included so we can run an analysis on those too if we want. Also, it looks like each entry is a unique entry of a UFO sighting .\n",
    "\n",
    "Some things stood out and some broad questions came to mind:\n",
    "1. **Geography** - Where do UFO sightings occur the most?\n",
    "2. **Seasonality** - Is there a popular time during the year that UFO sightings happen?\n",
    "3. **Consistency** - Are there frequently used descriptions in the 'shapes' and 'comments' sections?\n",
    "4. **Probability** - Statistically, where and when am I most likely to see a UFO? What should it look like?\n",
    "\n",
    "Other fun questions:\n",
    "\n",
    "Is there a correlation between shape and location?"
   ]
  },
  {
   "cell_type": "markdown",
   "metadata": {
    "_cell_guid": "2962d7e1-aeb8-4649-a517-4a59d989541d",
    "_uuid": "e1bffa5920e1fa1bce25460c032361872166b91b"
   },
   "source": [
    "## **Data Wrangling and Tidying Up**\n",
    "\n",
    "Here we'll trim up the excess fat in the dataset in order to get meaningful visualizations. Fleshing out NaN rows and irrelevant columns is essential to keep data analysis simple and focused."
   ]
  },
  {
   "cell_type": "code",
   "execution_count": null,
   "metadata": {
    "_cell_guid": "c38d469f-3e13-4e25-9123-72ab53fe243b",
    "_uuid": "72ff71f8dbcf675a1890e879380973ccdc59debc",
    "collapsed": true
   },
   "outputs": [],
   "source": [
    "# CLEAN Null values from dataset\n",
    "ufo_data = pd.read_csv(ufo_db, \n",
    "                        low_memory = False, \n",
    "                        na_values = ['UNKNOWN','UNK'], \n",
    "                        na_filter = True, \n",
    "                        skip_blank_lines = True)  # load dataset without NA values\n",
    "\n",
    "# Choose columns to work with based on our initial questions\n",
    "ufo_subcols = ['datetime', 'city', 'state', 'country', 'shape', 'duration (seconds)',\n",
    "        'comments', 'date posted', 'latitude',\n",
    "       'longitude ']\n",
    "\n",
    "# After tidying data and choosing what to work with, create dataframe to work with\n",
    "ufo_data = pd.DataFrame(data=ufo_data, columns=ufo_subcols)\n",
    "\n",
    "# ...drop null values\n",
    "ufo_data = ufo_data.dropna(thresh=8)\n",
    "\n",
    "#...reset the index\n",
    "ufo_data = ufo_data.reset_index(drop=True)\n",
    "\n",
    "# EXTRACT LATITUDES #\n",
    "ufo_data['latitude'] = pd.to_numeric(ufo_data['latitude'],errors = 'coerce')  # latitudes as numerics\n",
    "ufo_data['longitude '] = pd.to_numeric(ufo_data['longitude '], errors='coerce')\n",
    "\n",
    "# CHANGE VARIABLES UFO_DATE IN SCRIPT 1-1-18\n",
    "ufo_date = ufo_data.datetime.str.replace('24:00', '00:00')  # clean illegal values\n",
    "ufo_date = pd.to_datetime(ufo_date, format='%m/%d/%Y %H:%M')  # now in datetime\n",
    "\n",
    "ufo_data['datetime'] = ufo_data.datetime.str.replace('24:00', '00:00')\n",
    "ufo_data['datetime'] = pd.to_datetime(ufo_data['datetime'], format='%m/%d/%Y %H:%M')"
   ]
  },
  {
   "cell_type": "code",
   "execution_count": null,
   "metadata": {
    "_cell_guid": "1d74a5ee-bfad-40d2-b369-e2854c4538dd",
    "_uuid": "7033e94d94e63d7381ebf3760e0dcacd0b292b9c"
   },
   "outputs": [],
   "source": [
    "ufo_data.shape"
   ]
  },
  {
   "cell_type": "markdown",
   "metadata": {
    "_cell_guid": "b63aeaae-fe2d-46b6-b4d2-49987e6bdb01",
    "_uuid": "f144584e96ce1565f0150fb48d1cdc12a9a65129"
   },
   "source": [
    "*Our new dataset has 1 less column and 75 less rows from cleaning entries with null values and choosing what to investigate.****"
   ]
  },
  {
   "cell_type": "markdown",
   "metadata": {
    "_cell_guid": "d35534e4-753d-46d6-ac85-12d0092fbd58",
    "_uuid": "9ae1775a4ba35ed54685db54ab1c9ef9f3c68462"
   },
   "source": [
    "## UFO Sighting Frequency (1949 - 2013):"
   ]
  },
  {
   "cell_type": "code",
   "execution_count": null,
   "metadata": {
    "_cell_guid": "41a0059e-ee76-4ce5-b93d-2bac25cfb48d",
    "_uuid": "82c834e042313b69abed9ab9f2fd0cd9e71e534c"
   },
   "outputs": [],
   "source": [
    "\n",
    "ufo_yr = ufo_date.dt.year  # series with the year exclusively\n",
    "\n",
    "## Set axes ##\n",
    "years_data = ufo_yr.value_counts()\n",
    "years_index = years_data.index  # x ticks\n",
    "years_values = years_data.get_values()\n",
    "\n",
    "## Create Bar Plot ##\n",
    "plt.figure(figsize=(15,8))\n",
    "plt.xticks(rotation = 60)\n",
    "plt.title('UFO Sightings by Year')\n",
    "\n",
    "years_plot = sns.barplot(x=years_index[:60],y=years_values[:60], palette = \"GnBu\")"
   ]
  },
  {
   "cell_type": "markdown",
   "metadata": {
    "_cell_guid": "91505cb5-97eb-4b28-8c6a-f8503f83475d",
    "_uuid": "f1d122009e445f28dd7a4356439b392d57f1c361"
   },
   "source": [
    "**Note:** *UFO Sighting records ended in the middle of 2014.*"
   ]
  },
  {
   "cell_type": "markdown",
   "metadata": {
    "_cell_guid": "04c30684-eef6-4cf2-8a8d-e66d66334f79",
    "_uuid": "fa21d1a5f162eeb30bcdf27a8df034f2fef59888"
   },
   "source": [
    "# **1. Geography** - Where do most UFO sightings occur?"
   ]
  },
  {
   "cell_type": "markdown",
   "metadata": {
    "_cell_guid": "1150ebc5-a8c9-48cf-9a4b-0bb43d48e7e4",
    "_uuid": "fc6bc2ae8a07fb0a7389b2792685e368b85b24fb",
    "collapsed": true
   },
   "source": [
    "We shall now tackle the simple questions to gain momentum. First question:\n",
    "\n",
    "1. Where are UFO sightings most common?"
   ]
  },
  {
   "cell_type": "code",
   "execution_count": null,
   "metadata": {
    "_cell_guid": "53e8867e-0297-4f18-aa3c-2a579ada9937",
    "_uuid": "4cafefb2e871696d4e9e71955c8f08353196e375"
   },
   "outputs": [],
   "source": [
    "country_sightings = ufo_data.country.value_counts()  # num ufo sightings per country \n",
    "\n",
    "explode = (0, 0, 0, 0., 0.05)\n",
    "colors = ['lightblue','gold','yellowgreen','lightcoral','orange']\n",
    "country_sightings.plot(kind = 'pie', fontsize = 0, title='UFO Sightings by Country', colors=colors,\n",
    "                       autopct='%1.1f%%',shadow=True, explode=explode,figsize=(8,8))\n",
    "plt.legend(labels=['United States','Canada','United Kingdom','Australia','Germany'], loc=\"best\")\n",
    "plt.tight_layout()"
   ]
  },
  {
   "cell_type": "markdown",
   "metadata": {
    "_cell_guid": "6b0b6964-801a-4fe7-8e46-5448f9b42c7c",
    "_uuid": "518d58ca58133a765960593dd24f674e7556d97e"
   },
   "source": [
    "This could mean one of two things:\n",
    "    1. A large amount of Americans are part reptilian alien\n",
    "    2. The US government is in cahoots with extra-terrestrials and is using their technology to \n",
    "    maintain their status as a global superpower\n",
    "Just kidding, back to analysis."
   ]
  },
  {
   "cell_type": "markdown",
   "metadata": {
    "_cell_guid": "c394b7ad-3279-46fe-8bee-18e89d549d84",
    "_uuid": "12d9b0f8942be17bea2b69af705c7260f7a84501"
   },
   "source": [
    "## Narrowing Scope: UFO Sightings by US State"
   ]
  },
  {
   "cell_type": "code",
   "execution_count": null,
   "metadata": {
    "_cell_guid": "b85e1573-6262-47d4-a84e-3675690850dc",
    "_uuid": "9e496631a914600ad5ff91391a0a7a7979393f3f"
   },
   "outputs": [],
   "source": [
    "ufo_data['country'].value_counts().head(10)"
   ]
  },
  {
   "cell_type": "markdown",
   "metadata": {
    "_cell_guid": "1c0c9730-0ad1-4aa8-9297-a01a1b4df9ac",
    "_uuid": "77a0553a4493b8169af730587249854e17382e8d"
   },
   "source": [
    "Since US sightings comprise an overwhelming portion of the data (92.1%), let's re-frame the question using US data: \n",
    "\n",
    "** Where do UFO Sightings occur most within the United States?**"
   ]
  },
  {
   "cell_type": "code",
   "execution_count": null,
   "metadata": {
    "_cell_guid": "35b33434-4b26-421f-9d03-e4997484b5a7",
    "_uuid": "93b1028e34fd86c6259522076c9b437ea8146584"
   },
   "outputs": [],
   "source": [
    "# Filter US Values to analyze US state sightings #\n",
    "usa_filter = ufo_data['country']=='us'  # filter non-usa country\n",
    "us_data = ufo_data[usa_filter]  # DF ufo_data of only US sightings - includes puerto rico and dc\n",
    "\n",
    "# Get x and y axes for states bar viz #\n",
    "states_sights = us_data.state.value_counts()  # State Data\n",
    "state_names = states_sights.index  # x axis ticks\n",
    "state_freq = states_sights.get_values()  # y axis values\n",
    "\n",
    "# States Frequency Pareto Chart #\n",
    "plt.figure(figsize=(15,8))\n",
    "plt.xticks(rotation = 60)\n",
    "plt.title('Total UFO Sightings by State')\n",
    "states_plot = sns.barplot(x=state_names,y=state_freq, palette=\"GnBu_r\")\n",
    "plt.show()\n",
    "print('Top 10 States for Total UFO Sightings:')\n",
    "print(states_sights[:10].sort_values(ascending=False))"
   ]
  },
  {
   "cell_type": "markdown",
   "metadata": {
    "_cell_guid": "9158c59a-36f2-4be6-91f7-312bfaf06701",
    "_uuid": "4e8b4d0a6d83b7d58ca76baa3a9379c55207050d"
   },
   "source": [
    "[US State Abbreviation Key](https://state.1keydata.com/state-abbreviations.php)"
   ]
  },
  {
   "cell_type": "markdown",
   "metadata": {
    "_cell_guid": "931d4222-d4f5-4d0c-a153-9a20234809f2",
    "_uuid": "362bd26c3bad1ea788976f9768ea321cb582d4cf"
   },
   "source": [
    "## Better Measure for UFO Sighting Patterns\n",
    "This may not be a very useful measure for knowing the likelihood of seeing a UFO, because California, Florida, Texas, and New York all have relatively large populations and are thus expected to have more reports of UFO sightings. Washington is unique in that it is not in the top 10 most populated states, yet experiences the second-most sightings of UFOs. \n",
    "\n",
    "While this may not have a remarkable effect on the data, let's just go a little deeper for good measure:\n",
    "\n",
    "**What are the top states for UFO sightings relative to state population? **\n"
   ]
  },
  {
   "cell_type": "code",
   "execution_count": null,
   "metadata": {
    "_cell_guid": "e9fc0857-7b32-4c28-94ff-5450393ba69a",
    "_uuid": "7626fd2ce5d9ba90df53fa7c79cf2e6fbc526fbd",
    "scrolled": false
   },
   "outputs": [],
   "source": [
    "statespop = {'al':4872725.,'ak':746079.,'az':7044577.,'ar':2998643.,'ca':39506094.,\n",
    "            'co':5632271.,'ct':3568174.,'de':960054.,'dc':691963.,'fl':20979964.,\n",
    "            'ga':10421344.,'hi':1431957.,'id':1713452.,'il':12764031.,'in':6653338.,\n",
    "            'ia':3147389.,'ks':2907857.,'ky':4449337.,'la':4694372.,'me':1333505.,\n",
    "            'md':6037911.,'ma':6839318.,'mi':9938885.,'mn':5557469.,'ms':2988062.,\n",
    "            'mo':6109796.,'mt':1052967.,'ne':1920467.,'nv':2996358,'nh':1339479.,\n",
    "            'nj':8953517.,'nm':2081702.,'ny':19743395.,'nc':10258390.,'nd':759069.,\n",
    "            'oh':11623656.,'ok':3939708.,'or':4162296.,'pa':12776550.,'pr':3661538.,\n",
    "            'ri':1057245.,'sc':5027404.,'sd':872989.,'tn':6707332.,'tx':28295553.,\n",
    "            'ut':3111802.,'vt':623100.,'va':8456029.,'wa':7415710.,'wv':1821151.,\n",
    "            'wi':5789525.,'wy':584447.} \n",
    "states_pop = pd.Series(statespop)  # turn dict into series type\n",
    "\n",
    "\n",
    "state_propsight = (states_sights / states_pop)*100 # prop data series for viz, scaled for style\n",
    "state_propsight = state_propsight.sort_values(ascending=False) \n",
    "\n",
    "# Visualize it\n",
    "us_namesp = state_propsight.index  # x ticks\n",
    "us_sightsp = state_propsight.get_values()  # y values\n",
    "\n",
    "plt.figure(figsize=(15,8))\n",
    "plt.xticks(rotation=60)\n",
    "plt.title('State UFO Sightings Relative to Population')\n",
    "sns.barplot(x = us_namesp[:50], y = us_sightsp[:50], palette=\"GnBu_r\")\n",
    "plt.show()\n",
    "print('States with Highest Proportion of UFO Sightings:')\n",
    "print(round(state_propsight[:10],2))"
   ]
  },
  {
   "cell_type": "markdown",
   "metadata": {
    "_cell_guid": "eab1a5d5-a5ee-4c45-9fb4-780277524ec1",
    "_uuid": "789590af7d5a068bb0118aba2fbafe7de1613a1b"
   },
   "source": [
    "# **2. Seasonality** - Is there a popular time during the year that UFO sightings happen?"
   ]
  },
  {
   "cell_type": "markdown",
   "metadata": {
    "_cell_guid": "8ee751fe-4162-4fb6-992a-0ec391559060",
    "_uuid": "4d505905d293434526f669a5c5ff357f77564a79"
   },
   "source": [
    "UFO sightings occur the most in the states mentioned above (california, washington, arizona, new york, etc).  The next question is:\n",
    "\n",
    "- Is there a time during the year when I'm most likely to see a UFO?\n"
   ]
  },
  {
   "cell_type": "code",
   "execution_count": null,
   "metadata": {
    "_cell_guid": "93617440-bf2b-49c2-9ca5-40ad67566fff",
    "_uuid": "002e6a126bc2359f2005de015c32dcee739e3827"
   },
   "outputs": [],
   "source": [
    "m_cts = (ufo_data['datetime'].dt.month.value_counts()).sort_index()\n",
    "m_ctsx = m_cts.index\n",
    "m_ctsy = m_cts.get_values()\n",
    "f, ax = plt.subplots(figsize=(15,8))\n",
    "\n",
    "sns.barplot(x=m_ctsx, y=m_ctsy, palette=\"YlGnBu\")\n",
    "ax.set_title('Global UFO Sightings by Month')\n",
    "ax.set_xlabel('Month')\n",
    "ax.set_ylabel('# Sightings')\n",
    "plt.xticks(rotation=45)\n",
    "plt.show()"
   ]
  },
  {
   "cell_type": "markdown",
   "metadata": {
    "_cell_guid": "6f61fee3-63c2-4531-a707-a1a5c2c3f5bc",
    "_uuid": "2febfcb98c688ac6d71a62ceaed23fb04f002d33"
   },
   "source": [
    "\n",
    "Typically, I see UFOs in the summer. This may be because I'm outside more often in the summer, or it could be because UFO activity is **heightened during the summer**. We can group UFO sightings **by location** in order to see if this makes a difference (above the equator vs. below the equator)."
   ]
  },
  {
   "cell_type": "code",
   "execution_count": null,
   "metadata": {
    "_cell_guid": "cd2c272f-4428-4060-a05b-bfed45031023",
    "_uuid": "5d36bca71aa3e4b2af4823b5e0a5da474d290f5a",
    "collapsed": true
   },
   "outputs": [],
   "source": [
    "# Add Season Column to ufo_date #\n",
    "# Given a datetime, return the season that it's in #\n",
    "ufo_datem = ufo_date.dt.month\n",
    "spring = range(5,7)\n",
    "summer = range(7,10)\n",
    "fall = range(10,12)\n",
    "seasons = []\n",
    "\n",
    "for st_date in ufo_datem:\n",
    "    # Conversion Process # \n",
    "    if st_date in spring:\n",
    "        seasons.append('Spring')\n",
    "    elif st_date in summer:\n",
    "        seasons.append('Summer')\n",
    "    elif st_date in fall:\n",
    "        seasons.append('Fall')\n",
    "    else:\n",
    "        seasons.append('Winter')"
   ]
  },
  {
   "cell_type": "code",
   "execution_count": null,
   "metadata": {
    "_cell_guid": "ed9d2d59-5c96-4b94-a8cd-de7081d46692",
    "_uuid": "78fdb35c307ce400c1a861add32fe86eec5ac240",
    "collapsed": true
   },
   "outputs": [],
   "source": [
    "ufo_data['season'] = pd.Series(seasons, index=ufo_data.index)"
   ]
  },
  {
   "cell_type": "code",
   "execution_count": null,
   "metadata": {
    "_cell_guid": "6feec548-3d33-4ade-9e7a-b00b66113c3e",
    "_uuid": "8c1b1becafe80594a771310492dc4b3ef40d4958",
    "collapsed": true
   },
   "outputs": [],
   "source": [
    "# Add Hemisphere Column to ufo_date #\n",
    "hemis = []\n",
    "for st_loc in ufo_data['latitude']:\n",
    "    if st_loc >= 0 :\n",
    "        hemis.append('Northern Hemisphere')\n",
    "    else:\n",
    "        hemis.append('Southern Hemisphere')"
   ]
  },
  {
   "cell_type": "code",
   "execution_count": null,
   "metadata": {
    "_cell_guid": "686c81d0-3d88-4e76-a2f3-c7566dfd5370",
    "_uuid": "d576b00954d93f416dca6b33d122d29931162db5",
    "collapsed": true
   },
   "outputs": [],
   "source": [
    "ufo_data['hemisphere'] = (pd.Series(hemis, index=ufo_data.index)).astype('category')"
   ]
  },
  {
   "cell_type": "code",
   "execution_count": null,
   "metadata": {
    "_cell_guid": "57e5a130-8c30-41cb-bbad-8b85ccfdd982",
    "_uuid": "d42beedb688729e806db2eeae45c23102beccc99"
   },
   "outputs": [],
   "source": [
    "ufo_data['season'].value_counts()"
   ]
  },
  {
   "cell_type": "code",
   "execution_count": null,
   "metadata": {
    "_cell_guid": "87b1b70e-a8f4-4d59-8a17-5f67121cf23b",
    "_uuid": "e6010470ae862060f1c03b2376c63cb941dc68b1"
   },
   "outputs": [],
   "source": [
    "plt.figure(figsize=(15,8))\n",
    "sns.countplot(x='season', hue='hemisphere', data=ufo_data)"
   ]
  },
  {
   "cell_type": "code",
   "execution_count": null,
   "metadata": {
    "_cell_guid": "19643617-ea04-405d-bf0b-49425800451c",
    "_uuid": "c99e245328ff88d0b30165525a8ba64c22f6de2d"
   },
   "outputs": [],
   "source": [
    "print(max(ufo_data['latitude']))\n",
    "print(min(ufo_data['latitude']))"
   ]
  },
  {
   "cell_type": "markdown",
   "metadata": {
    "_cell_guid": "3044dd0b-0e91-4ab1-90ac-f1b2ef6bf211",
    "_uuid": "1f4ce821605e67b12f4d3069a0f2192e0f17764f"
   },
   "source": [
    "That was a little clunky. Maybe visualizing our real question requires a different metric, or different approach.."
   ]
  },
  {
   "cell_type": "code",
   "execution_count": null,
   "metadata": {
    "_cell_guid": "9fdf7d13-03c0-42bc-8ae1-674ae97f0db4",
    "_uuid": "a94c4319d157c92544ce8c9f5af192423924fde8",
    "collapsed": true
   },
   "outputs": [],
   "source": [
    "resp_n = ufo_data[ufo_data['hemisphere'] == 'Northern Hemisphere']\n",
    "resp_s = ufo_data[ufo_data['hemisphere'] == 'Southern Hemisphere']"
   ]
  },
  {
   "cell_type": "code",
   "execution_count": null,
   "metadata": {
    "_cell_guid": "f63fd9bb-089d-45ab-95e2-70dcb922e34f",
    "_uuid": "0173c17ef514d35de074c064f98bbb0d6fe06394"
   },
   "outputs": [],
   "source": [
    "nsperc = resp_n['season'].value_counts() / len(resp_n) * 100\n",
    "ssperc = resp_s['season'].value_counts() / len(resp_s) * 100\n",
    "\n",
    "pos = list(range(len(nsperc)))\n",
    "width = 0.25\n",
    "fig, ax = plt.subplots(figsize = (15,8))\n",
    "\n",
    "plt.bar(pos, nsperc, width, alpha = .7, color='#0064A9')\n",
    "plt.bar([p + width*1.05 for p in pos], ssperc, width, alpha = .65, color='#E1E066')\n",
    "\n",
    "ax.set_title('UFO Sightings by Season')\n",
    "ax.set_xlabel('Season')\n",
    "ax.set_ylabel('% of UFO Sightings')\n",
    "ax.set_xticks([p + .5 * width for p in pos])\n",
    "ax.set_xticklabels(nsperc.index)\n",
    "plt.xticks(rotation=45)\n",
    "\n",
    "plt.ylim([0, 60])\n",
    "plt.legend(['Northern Hemisphere','Southern Hemisphere'], loc='upper left')\n",
    "plt.show()\n",
    "print('Northern Hemisphere:\\n', nsperc)\n",
    "print('Southern Hemisphere:\\n',ssperc)"
   ]
  },
  {
   "cell_type": "markdown",
   "metadata": {
    "_cell_guid": "8495c285-9ea0-4cfa-800c-8032f0810e03",
    "_uuid": "e603331de69fe2200a7021d213bcc69b93e44a65"
   },
   "source": [
    "The first thing we should take note of is that the seasons are labeled by the months in which they occur in the northern hemisphere. So \"Winter\" would be \"Summer\" for the southern hemisphere, \"Fall\" would be \"Spring\", and vice-versa. This helps confirm temporal patterns of UFO sightings, regardless of the hemisphere.\n",
    "\n",
    "Contrary to what I believed, heightened UFO sightings weren't simply a result of more outside activity; the most UFO sightings in the northern hemisphere occured during the Winter, with Summer in second place. However, the Summer months for both hemispheres still showed a bunch of UFO sighting reports compared to the other months."
   ]
  },
  {
   "cell_type": "code",
   "execution_count": null,
   "metadata": {
    "_cell_guid": "39c9fe0b-0983-41b0-a74f-e42cd0654ef2",
    "_uuid": "52528c181bb97a823594aea8550ecc03716de870"
   },
   "outputs": [],
   "source": [
    "n_mon = resp_n['datetime'].dt.month\n",
    "s_mon = resp_s['datetime'].dt.month\n",
    "\n",
    "# N.MONTH #\n",
    "monn_cts = n_mon.value_counts().sort_index()\n",
    "monn_in = monn_cts.index \n",
    "monn_val = monn_cts.get_values()\n",
    "\n",
    "# S.MONTH #\n",
    "mons_cts = s_mon.value_counts().sort_index()\n",
    "mons_in = mons_cts.index\n",
    "mons_val = mons_cts.get_values()\n",
    "\n",
    "plt.figure(figsize=(15,7))\n",
    "plt.xticks(rotation = 60)\n",
    "plt.title('UFO Sightings by Month - Northern Hemisphere')\n",
    "sns.barplot(x=monn_in,y=monn_val, palette=\"GnBu_d\")\n",
    "plt.show()\n",
    "\n",
    "plt.figure(figsize=(15,7))\n",
    "plt.xticks(rotation = 60)\n",
    "plt.title('UFO Sighting by Month - Southern Hemisphere')\n",
    "sns.barplot(x=mons_in, y=mons_val, palette=\"OrRd_d\")\n",
    "plt.show()\n",
    "\n",
    "print('Top Months for UFO Sightings in N. Hemishpere:')\n",
    "print(n_mon.value_counts()[:6])\n",
    "print('Top Months for UFO Sightings in S. Hemisphere:')\n",
    "print(s_mon.value_counts()[:6])"
   ]
  }
 ],
 "metadata": {
  "kernelspec": {
   "display_name": "Python 3",
   "language": "python",
   "name": "python3"
  },
  "language_info": {
   "codemirror_mode": {
    "name": "ipython",
    "version": 3
   },
   "file_extension": ".py",
   "mimetype": "text/x-python",
   "name": "python",
   "nbconvert_exporter": "python",
   "pygments_lexer": "ipython3",
   "version": "3.7.6"
  }
 },
 "nbformat": 4,
 "nbformat_minor": 1
}
